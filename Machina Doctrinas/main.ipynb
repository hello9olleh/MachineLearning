{
 "cells": [
  {
   "cell_type": "code",
   "execution_count": 1,
   "metadata": {},
   "outputs": [],
   "source": [
    "import pandas as pd\n",
    "import numpy as np\n",
    "import matplotlib.pyplot as plt\n",
    "import math\n",
    "\n",
    "from sklearn.linear_model import LinearRegression"
   ]
  },
  {
   "cell_type": "code",
   "execution_count": 2,
   "metadata": {},
   "outputs": [],
   "source": [
    "df = pd.read_csv('DataSet/Train_Dataset.csv')\n",
    "df_test = pd.read_csv('DataSet/Test_Dataset.csv')"
   ]
  },
  {
   "cell_type": "code",
   "execution_count": 3,
   "metadata": {},
   "outputs": [
    {
     "data": {
      "text/plain": [
       "Ghana                    15\n",
       "Tuvalu                    1\n",
       "Cook Islands              1\n",
       "Marshall Islands          1\n",
       "Monaco                    1\n",
       "Palau                     1\n",
       "Niue                      1\n",
       "San Marino                1\n",
       "Nauru                     1\n",
       "Saint Kitts and Nevis     1\n",
       "Dominica                  1\n",
       "Name: Country, dtype: int64"
      ]
     },
     "execution_count": 3,
     "metadata": {},
     "output_type": "execute_result"
    }
   ],
   "source": [
    "# Check for the No. of Data Available of an Country\n",
    "df['Country'].value_counts().tail(11)"
   ]
  },
  {
   "cell_type": "code",
   "execution_count": 4,
   "metadata": {},
   "outputs": [],
   "source": [
    "# Removing the Countries with less than 15 Yrs of Data\n",
    "country = df.iloc[:,1].value_counts().index[-10:]\n",
    "for i in country :\n",
    "    df.drop(df[df['Country'] == i].index, inplace=True, axis = 0)"
   ]
  },
  {
   "cell_type": "code",
   "execution_count": 5,
   "metadata": {},
   "outputs": [],
   "source": [
    "# Removing the Features Not Present in Test Dataset\n",
    "Y_train = df['Power Level']\n",
    "df.drop('Power Level', axis = 1,inplace = True)\n",
    "# As all these features are Not Present in Test Dataset\n",
    "df.drop('Unnamed: 0', axis = 1, inplace = True)\n",
    "df.drop('Substance Abuse', axis = 1, inplace = True)\n",
    "df.drop('Educational Investment', axis = 1, inplace = True)"
   ]
  },
  {
   "cell_type": "code",
   "execution_count": 6,
   "metadata": {},
   "outputs": [],
   "source": [
    "# Changing Object to Category\n",
    "# Train Dataset\n",
    "df['Country'] = df['Country'].astype('category')\n",
    "df['Country'] = df['Country'].cat.codes\n",
    "df['Status'] = df['Status'].astype('category')\n",
    "df['Status'] = df['Status'].cat.codes\n",
    "# Test Dataset\n",
    "df_test['Country'] = df_test['Country'].astype('category')\n",
    "df_test['Country'] = df_test['Country'].cat.codes\n",
    "df_test['Status'] = df_test['Status'].astype('category')\n",
    "df_test['Status'] = df_test['Status'].cat.codes"
   ]
  },
  {
   "cell_type": "code",
   "execution_count": null,
   "metadata": {},
   "outputs": [],
   "source": [
    "# Filling the NaN Values\n",
    "# Train Dataset\n",
    "for i in range(0,183) :\n",
    "    cat = df[df['Country'] == i]\n",
    "    for j in range(3,19) :\n",
    "        if math.isnan(np.mean(cat.iloc[:,j])) == True :\n",
    "            cat.iloc[:,j] = cat.iloc[:,j].fillna(np.mean(df.iloc[:,j]))\n",
    "        else :  \n",
    "            cat.iloc[:,j] = cat.iloc[:,j].fillna(np.mean(cat.iloc[:,j]))\n",
    "    df[df['Country'] == i] = cat\n",
    "# Test Dataset\n",
    "for k in range(3,19) :\n",
    "    df_test.iloc[:,k] = df_test.iloc[:,k].fillna(np.mean(df_test.iloc[:,k]))"
   ]
  },
  {
   "cell_type": "code",
   "execution_count": 8,
   "metadata": {},
   "outputs": [],
   "source": [
    "# Z-Score Normalization\n",
    "# Train Dataset\n",
    "for i in range(3,19) :\n",
    "    df.iloc[:,i] = (df.iloc[:,i] - np.mean(df.iloc[:,i]))/np.std(df.iloc[:,i])\n",
    "# Test Dataset\n",
    "for i in range(3,19) :\n",
    "    df_test.iloc[:,i] = (df_test.iloc[:,i] - np.mean(df_test.iloc[:,i]))/np.std(df_test.iloc[:,i])"
   ]
  },
  {
   "cell_type": "code",
   "execution_count": 9,
   "metadata": {},
   "outputs": [
    {
     "data": {
      "text/plain": [
       "LinearRegression()"
      ]
     },
     "execution_count": 9,
     "metadata": {},
     "output_type": "execute_result"
    }
   ],
   "source": [
    "# Linear Regression\n",
    "reg = LinearRegression()\n",
    "reg.fit(df,Y_train)"
   ]
  },
  {
   "cell_type": "code",
   "execution_count": 10,
   "metadata": {},
   "outputs": [],
   "source": [
    "# Saving the Model\n",
    "# import pickle\n",
    "# pickle.dump(reg, open('model.pkl','wb'))\n",
    "\n",
    "# Loading the Model\n",
    "# model = pickle.load(open('model.pkl','rb'))\n",
    "\n",
    "# Predicting the Power Level\n",
    "Y_test = reg.predict(df_test)\n",
    "\n",
    "# Saving the Predicted Power Level\n",
    "df_output = {'Country ID': np.arange(0,183), 'Predicted Power Level': Y_test}\n",
    "df_output = pd.DataFrame(df_output)\n",
    "df_output.to_csv('DataSet/Expected Output.csv')"
   ]
  }
 ],
 "metadata": {
  "kernelspec": {
   "display_name": "base",
   "language": "python",
   "name": "python3"
  },
  "language_info": {
   "codemirror_mode": {
    "name": "ipython",
    "version": 3
   },
   "file_extension": ".py",
   "mimetype": "text/x-python",
   "name": "python",
   "nbconvert_exporter": "python",
   "pygments_lexer": "ipython3",
   "version": "3.9.12"
  },
  "orig_nbformat": 4
 },
 "nbformat": 4,
 "nbformat_minor": 2
}
