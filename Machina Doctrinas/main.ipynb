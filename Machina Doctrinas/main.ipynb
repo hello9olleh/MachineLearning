{
 "cells": [
  {
   "cell_type": "code",
   "execution_count": 1,
   "metadata": {},
   "outputs": [],
   "source": [
    "import pandas as pd\n",
    "import numpy as np\n",
    "import matplotlib.pyplot as plt\n",
    "import math\n",
    "\n",
    "from sklearn.linear_model import LinearRegression"
   ]
  },
  {
   "cell_type": "code",
   "execution_count": 2,
   "metadata": {},
   "outputs": [],
   "source": [
    "df = pd.read_csv('DataSet/Train_Dataset.csv')\n",
    "df_test = pd.read_csv('DataSet/Test_Dataset.csv')"
   ]
  },
  {
   "cell_type": "code",
   "execution_count": 3,
   "metadata": {},
   "outputs": [
    {
     "data": {
      "text/plain": "Ghana                    15\nTuvalu                    1\nCook Islands              1\nMarshall Islands          1\nMonaco                    1\nPalau                     1\nNiue                      1\nSan Marino                1\nNauru                     1\nSaint Kitts and Nevis     1\nDominica                  1\nName: Country, dtype: int64"
     },
     "execution_count": 3,
     "metadata": {},
     "output_type": "execute_result"
    }
   ],
   "source": [
    "# Check for the No. of Data Available of an Country\n",
    "df['Country'].value_counts().tail(11)"
   ]
  },
  {
   "cell_type": "code",
   "execution_count": 4,
   "metadata": {},
   "outputs": [],
   "source": [
    "# Removing the Countries with less than 15 Yrs of Data\n",
    "country = df.iloc[:,1].value_counts().index[-10:]\n",
    "for i in country :\n",
    "    df.drop(df[df['Country'] == i].index, inplace=True, axis = 0)"
   ]
  },
  {
   "cell_type": "code",
   "execution_count": 5,
   "metadata": {},
   "outputs": [],
   "source": [
    "# Removing the Features Not Present in Test Dataset\n",
    "Y_train = df['Power Level']\n",
    "df.drop('Power Level', axis = 1,inplace = True)\n",
    "# As all these features are Not Present in Test Dataset\n",
    "df.drop('Unnamed: 0', axis = 1, inplace = True)\n",
    "df.drop('Substance Abuse', axis = 1, inplace = True)\n",
    "df.drop('Educational Investment', axis = 1, inplace = True)"
   ]
  },
  {
   "cell_type": "code",
   "execution_count": 6,
   "metadata": {},
   "outputs": [],
   "source": [
    "# Changing Object to Category\n",
    "# Train Dataset\n",
    "df['Country'] = df['Country'].astype('category')\n",
    "df['Country'] = df['Country'].cat.codes\n",
    "df['Status'] = df['Status'].astype('category')\n",
    "df['Status'] = df['Status'].cat.codes\n",
    "# Test Dataset\n",
    "df_test['Country'] = df_test['Country'].astype('category')\n",
    "df_test['Country'] = df_test['Country'].cat.codes\n",
    "df_test['Status'] = df_test['Status'].astype('category')\n",
    "df_test['Status'] = df_test['Status'].cat.codes"
   ]
  },
  {
   "cell_type": "code",
   "execution_count": 7,
   "metadata": {},
   "outputs": [
    {
     "name": "stderr",
     "output_type": "stream",
     "text": [
      "/var/folders/wc/rkrv7ck92zd4f_3qgk8q2gn00000gn/T/ipykernel_8286/3307623477.py:9: SettingWithCopyWarning: \n",
      "A value is trying to be set on a copy of a slice from a DataFrame.\n",
      "Try using .loc[row_indexer,col_indexer] = value instead\n",
      "\n",
      "See the caveats in the documentation: https://pandas.pydata.org/pandas-docs/stable/user_guide/indexing.html#returning-a-view-versus-a-copy\n",
      "  cat.iloc[:,j] = cat.iloc[:,j].fillna(np.mean(cat.iloc[:,j]))\n",
      "/var/folders/wc/rkrv7ck92zd4f_3qgk8q2gn00000gn/T/ipykernel_8286/3307623477.py:7: SettingWithCopyWarning: \n",
      "A value is trying to be set on a copy of a slice from a DataFrame.\n",
      "Try using .loc[row_indexer,col_indexer] = value instead\n",
      "\n",
      "See the caveats in the documentation: https://pandas.pydata.org/pandas-docs/stable/user_guide/indexing.html#returning-a-view-versus-a-copy\n",
      "  cat.iloc[:,j] = cat.iloc[:,j].fillna(np.mean(df.iloc[:,j]))\n"
     ]
    }
   ],
   "source": [
    "# Filling the NaN Values\n",
    "# Train Dataset\n",
    "for i in range(0,183) :\n",
    "    cat = df[df['Country'] == i]\n",
    "    for j in range(3,19) :\n",
    "        if math.isnan(np.mean(cat.iloc[:,j])) == True :\n",
    "            cat.iloc[:,j] = cat.iloc[:,j].fillna(np.mean(df.iloc[:,j]))\n",
    "        else :  \n",
    "            cat.iloc[:,j] = cat.iloc[:,j].fillna(np.mean(cat.iloc[:,j]))\n",
    "    df[df['Country'] == i] = cat\n",
    "# Test Dataset\n",
    "for k in range(3,19) :\n",
    "    df_test.iloc[:,k] = df_test.iloc[:,k].fillna(np.mean(df_test.iloc[:,k]))"
   ]
  },
  {
   "cell_type": "code",
   "execution_count": 8,
   "metadata": {},
   "outputs": [],
   "source": [
    "# Z-Score Normalization\n",
    "# Train Dataset\n",
    "for i in range(3,19) :\n",
    "    df.iloc[:,i] = (df.iloc[:,i] - np.mean(df.iloc[:,i]))/np.std(df.iloc[:,i])\n",
    "# Test Dataset\n",
    "for i in range(3,19) :\n",
    "    df_test.iloc[:,i] = (df_test.iloc[:,i] - np.mean(df_test.iloc[:,i]))/np.std(df_test.iloc[:,i])"
   ]
  },
  {
   "cell_type": "code",
   "execution_count": 9,
   "metadata": {},
   "outputs": [
    {
     "data": {
      "text/plain": "LinearRegression()",
      "text/html": "<style>#sk-container-id-1 {color: black;background-color: white;}#sk-container-id-1 pre{padding: 0;}#sk-container-id-1 div.sk-toggleable {background-color: white;}#sk-container-id-1 label.sk-toggleable__label {cursor: pointer;display: block;width: 100%;margin-bottom: 0;padding: 0.3em;box-sizing: border-box;text-align: center;}#sk-container-id-1 label.sk-toggleable__label-arrow:before {content: \"▸\";float: left;margin-right: 0.25em;color: #696969;}#sk-container-id-1 label.sk-toggleable__label-arrow:hover:before {color: black;}#sk-container-id-1 div.sk-estimator:hover label.sk-toggleable__label-arrow:before {color: black;}#sk-container-id-1 div.sk-toggleable__content {max-height: 0;max-width: 0;overflow: hidden;text-align: left;background-color: #f0f8ff;}#sk-container-id-1 div.sk-toggleable__content pre {margin: 0.2em;color: black;border-radius: 0.25em;background-color: #f0f8ff;}#sk-container-id-1 input.sk-toggleable__control:checked~div.sk-toggleable__content {max-height: 200px;max-width: 100%;overflow: auto;}#sk-container-id-1 input.sk-toggleable__control:checked~label.sk-toggleable__label-arrow:before {content: \"▾\";}#sk-container-id-1 div.sk-estimator input.sk-toggleable__control:checked~label.sk-toggleable__label {background-color: #d4ebff;}#sk-container-id-1 div.sk-label input.sk-toggleable__control:checked~label.sk-toggleable__label {background-color: #d4ebff;}#sk-container-id-1 input.sk-hidden--visually {border: 0;clip: rect(1px 1px 1px 1px);clip: rect(1px, 1px, 1px, 1px);height: 1px;margin: -1px;overflow: hidden;padding: 0;position: absolute;width: 1px;}#sk-container-id-1 div.sk-estimator {font-family: monospace;background-color: #f0f8ff;border: 1px dotted black;border-radius: 0.25em;box-sizing: border-box;margin-bottom: 0.5em;}#sk-container-id-1 div.sk-estimator:hover {background-color: #d4ebff;}#sk-container-id-1 div.sk-parallel-item::after {content: \"\";width: 100%;border-bottom: 1px solid gray;flex-grow: 1;}#sk-container-id-1 div.sk-label:hover label.sk-toggleable__label {background-color: #d4ebff;}#sk-container-id-1 div.sk-serial::before {content: \"\";position: absolute;border-left: 1px solid gray;box-sizing: border-box;top: 0;bottom: 0;left: 50%;z-index: 0;}#sk-container-id-1 div.sk-serial {display: flex;flex-direction: column;align-items: center;background-color: white;padding-right: 0.2em;padding-left: 0.2em;position: relative;}#sk-container-id-1 div.sk-item {position: relative;z-index: 1;}#sk-container-id-1 div.sk-parallel {display: flex;align-items: stretch;justify-content: center;background-color: white;position: relative;}#sk-container-id-1 div.sk-item::before, #sk-container-id-1 div.sk-parallel-item::before {content: \"\";position: absolute;border-left: 1px solid gray;box-sizing: border-box;top: 0;bottom: 0;left: 50%;z-index: -1;}#sk-container-id-1 div.sk-parallel-item {display: flex;flex-direction: column;z-index: 1;position: relative;background-color: white;}#sk-container-id-1 div.sk-parallel-item:first-child::after {align-self: flex-end;width: 50%;}#sk-container-id-1 div.sk-parallel-item:last-child::after {align-self: flex-start;width: 50%;}#sk-container-id-1 div.sk-parallel-item:only-child::after {width: 0;}#sk-container-id-1 div.sk-dashed-wrapped {border: 1px dashed gray;margin: 0 0.4em 0.5em 0.4em;box-sizing: border-box;padding-bottom: 0.4em;background-color: white;}#sk-container-id-1 div.sk-label label {font-family: monospace;font-weight: bold;display: inline-block;line-height: 1.2em;}#sk-container-id-1 div.sk-label-container {text-align: center;}#sk-container-id-1 div.sk-container {/* jupyter's `normalize.less` sets `[hidden] { display: none; }` but bootstrap.min.css set `[hidden] { display: none !important; }` so we also need the `!important` here to be able to override the default hidden behavior on the sphinx rendered scikit-learn.org. See: https://github.com/scikit-learn/scikit-learn/issues/21755 */display: inline-block !important;position: relative;}#sk-container-id-1 div.sk-text-repr-fallback {display: none;}</style><div id=\"sk-container-id-1\" class=\"sk-top-container\"><div class=\"sk-text-repr-fallback\"><pre>LinearRegression()</pre><b>In a Jupyter environment, please rerun this cell to show the HTML representation or trust the notebook. <br />On GitHub, the HTML representation is unable to render, please try loading this page with nbviewer.org.</b></div><div class=\"sk-container\" hidden><div class=\"sk-item\"><div class=\"sk-estimator sk-toggleable\"><input class=\"sk-toggleable__control sk-hidden--visually\" id=\"sk-estimator-id-1\" type=\"checkbox\" checked><label for=\"sk-estimator-id-1\" class=\"sk-toggleable__label sk-toggleable__label-arrow\">LinearRegression</label><div class=\"sk-toggleable__content\"><pre>LinearRegression()</pre></div></div></div></div></div>"
     },
     "execution_count": 9,
     "metadata": {},
     "output_type": "execute_result"
    }
   ],
   "source": [
    "# Linear Regression\n",
    "reg = LinearRegression()\n",
    "reg.fit(df,Y_train)"
   ]
  },
  {
   "cell_type": "code",
   "execution_count": 10,
   "metadata": {},
   "outputs": [],
   "source": [
    "# Saving the Model\n",
    "# import pickle\n",
    "# pickle.dump(reg, open('model.pkl','wb'))\n",
    "\n",
    "# Loading the Model\n",
    "# model = pickle.load(open('model.pkl','rb'))\n",
    "\n",
    "# Predicting the Power Level\n",
    "Y_test = reg.predict(df_test)\n",
    "\n",
    "# Saving the Predicted Power Level\n",
    "df_output = {'Country ID': np.arange(0,183), 'Predicted Power Level': Y_test}\n",
    "df_output = pd.DataFrame(df_output)\n",
    "df_output.to_csv('DataSet/Predicted Output.csv')"
   ]
  },
  {
   "cell_type": "code",
   "execution_count": 11,
   "outputs": [
    {
     "name": "stdout",
     "output_type": "stream",
     "text": [
      "22.141372017302608\n"
     ]
    }
   ],
   "source": [
    "# Evaluating the Predicted Output with the Expected Output\n",
    "from sklearn.metrics import mean_squared_error\n",
    "\n",
    "# Load the Expected Output.csv and Predicted Output.csv File\n",
    "X = pd.read_csv('DataSet/Predicted Output.csv')\n",
    "Y = pd.read_csv('DataSet/Expected Output.csv')\n",
    "\n",
    "X = X['Predicted Power Level']\n",
    "Y = Y['Power Level']\n",
    "\n",
    "print(mean_squared_error(X, Y))"
   ],
   "metadata": {
    "collapsed": false
   }
  }
 ],
 "metadata": {
  "kernelspec": {
   "display_name": "base",
   "language": "python",
   "name": "python3"
  },
  "language_info": {
   "codemirror_mode": {
    "name": "ipython",
    "version": 3
   },
   "file_extension": ".py",
   "mimetype": "text/x-python",
   "name": "python",
   "nbconvert_exporter": "python",
   "pygments_lexer": "ipython3",
   "version": "3.9.12"
  },
  "orig_nbformat": 4
 },
 "nbformat": 4,
 "nbformat_minor": 2
}
