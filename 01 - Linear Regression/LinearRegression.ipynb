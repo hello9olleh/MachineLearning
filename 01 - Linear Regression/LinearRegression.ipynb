{
 "cells": [
  {
   "cell_type": "code",
   "execution_count": 1,
   "metadata": {
    "collapsed": true
   },
   "outputs": [],
   "source": [
    "import numpy as np\n",
    "import pandas as pd\n",
    "\n",
    "from sklearn.datasets import fetch_california_housing\n",
    "from sklearn.model_selection import train_test_split\n",
    "from sklearn.metrics import mean_squared_error"
   ]
  },
  {
   "cell_type": "code",
   "execution_count": 2,
   "outputs": [],
   "source": [
    "# Fetching the DataSet\n",
    "# california_housing = fetch_california_housing(data_home = 'DataSet', download_if_missing = True, as_frame = True)\n",
    "df = pd.read_csv('DataSet/housing.csv')"
   ],
   "metadata": {
    "collapsed": false
   }
  },
  {
   "cell_type": "code",
   "execution_count": 3,
   "outputs": [
    {
     "data": {
      "text/plain": "longitude               0\nlatitude                0\nhousing_median_age      0\ntotal_rooms             0\ntotal_bedrooms        207\npopulation              0\nhouseholds              0\nmedian_income           0\nmedian_house_value      0\nocean_proximity         0\ndtype: int64"
     },
     "execution_count": 3,
     "metadata": {},
     "output_type": "execute_result"
    }
   ],
   "source": [
    "df.isna().sum()"
   ],
   "metadata": {
    "collapsed": false
   }
  },
  {
   "cell_type": "code",
   "execution_count": 4,
   "outputs": [
    {
     "data": {
      "text/plain": "longitude             float64\nlatitude              float64\nhousing_median_age    float64\ntotal_rooms           float64\ntotal_bedrooms        float64\npopulation            float64\nhouseholds            float64\nmedian_income         float64\nmedian_house_value    float64\nocean_proximity        object\ndtype: object"
     },
     "execution_count": 4,
     "metadata": {},
     "output_type": "execute_result"
    }
   ],
   "source": [
    "df.dtypes"
   ],
   "metadata": {
    "collapsed": false
   }
  },
  {
   "cell_type": "code",
   "execution_count": 5,
   "outputs": [
    {
     "data": {
      "text/plain": "<1H OCEAN     9136\nINLAND        6551\nNEAR OCEAN    2658\nNEAR BAY      2290\nISLAND           5\nName: ocean_proximity, dtype: int64"
     },
     "execution_count": 5,
     "metadata": {},
     "output_type": "execute_result"
    }
   ],
   "source": [
    "df['ocean_proximity'].value_counts()"
   ],
   "metadata": {
    "collapsed": false
   }
  },
  {
   "cell_type": "code",
   "execution_count": 6,
   "outputs": [],
   "source": [
    "# Converting object datatype to int | <1H OCEAN - 0 | INLAND - 1 | NEAR OCEAN - 4 | NEAR BAY - 3 | ISLAND - 2\n",
    "df['ocean_proximity'] = df['ocean_proximity'].astype('category')\n",
    "df['ocean_proximity'] = df['ocean_proximity'].cat.codes"
   ],
   "metadata": {
    "collapsed": false
   }
  },
  {
   "cell_type": "code",
   "execution_count": 7,
   "outputs": [],
   "source": [
    "# Filling NaN in 'total_bedrooms' with mean\n",
    "df['total_bedrooms'] = df['total_bedrooms'].fillna(np.mean(df['total_bedrooms']))"
   ],
   "metadata": {
    "collapsed": false
   }
  },
  {
   "cell_type": "code",
   "execution_count": 8,
   "outputs": [],
   "source": [
    "# Z-Score Normalization | Feature Scaling\n",
    "for index in range(df.shape[1]) :\n",
    "    df.iloc[:, index] = (df.iloc[:, index] - np.mean(df.iloc[:, index]))/np.std(df.iloc[:, index])"
   ],
   "metadata": {
    "collapsed": false
   }
  },
  {
   "cell_type": "code",
   "execution_count": 9,
   "outputs": [],
   "source": [
    "# Splitting Test and Train DataSet\n",
    "y = df['median_house_value']\n",
    "X = df.drop('median_house_value', axis = 1)\n",
    "\n",
    "X_train, X_test, y_train, y_test = train_test_split(X, y, test_size = 0.2, random_state = 42)"
   ],
   "metadata": {
    "collapsed": false
   }
  },
  {
   "cell_type": "code",
   "execution_count": 10,
   "outputs": [],
   "source": [
    "# Initialize the Weights to Zero\n",
    "W = np.zeros(X_train.shape[1])\n",
    "a = 0\n",
    "# Defining GD\n",
    "for i in range(X_train.shape[1]) :\n",
    "    for j in range(X_train.shape[0]) :\n",
    "        W[i] = W[i] - (a/X_train.shape[0])(np.sum(np.dot(X[j][:], W.T) - y_train[j]))"
   ],
   "metadata": {
    "collapsed": false
   }
  },
  {
   "cell_type": "code",
   "execution_count": 11,
   "outputs": [],
   "source": [
    "class LinearRegression :\n",
    "    def __init__(self, lr, itr) :\n",
    "        self.lr  = lr\n",
    "        self.itr = itr\n",
    "        self.W   = 0     # New Variables W and B are initialized which are Weights and Bias respectively\n",
    "        self.B   = 0\n",
    "\n",
    "    def model(self, X, y): # Applied GD on MSE\n",
    "        self.W = np.zeros(X.shape[1])\n",
    "        self.B = 0\n",
    "\n",
    "        for index in range(self.itr) :\n",
    "            H = np.dot(X, self.W) + self.B  # Hypothesis\n",
    "\n",
    "            dW = (1/X.shape[0])*(np.dot(X.T, (H - y)))\n",
    "            dB = (1/X.shape[0])*(np.sum(H - y))\n",
    "\n",
    "            self.W = self.W - self.lr*dW\n",
    "            self.B = self.B - self.lr*dB\n",
    "\n",
    "    def predict(self, X):\n",
    "        y = np.dot(X, self.W) + self.B\n",
    "        return np.array(y)"
   ],
   "metadata": {
    "collapsed": false
   }
  },
  {
   "cell_type": "code",
   "execution_count": 12,
   "outputs": [
    {
     "name": "stdout",
     "output_type": "stream",
     "text": [
      "0.3947437413869772\n"
     ]
    }
   ],
   "source": [
    "linreg = LinearRegression(lr = 0.001, itr = 10000)\n",
    "linreg.model(X_train, y_train)\n",
    "y_pred = linreg.predict(X_test)"
   ],
   "metadata": {
    "collapsed": false
   }
  },
  {
   "cell_type": "code",
   "execution_count": 13,
   "outputs": [
    {
     "name": "stdout",
     "output_type": "stream",
     "text": [
      "0.3947437413869772\n"
     ]
    }
   ],
   "source": [
    "print(mean_squared_error(y_test, y_pred))"
   ],
   "metadata": {
    "collapsed": false
   }
  }
 ],
 "metadata": {
  "kernelspec": {
   "display_name": "Python 3",
   "language": "python",
   "name": "python3"
  },
  "language_info": {
   "codemirror_mode": {
    "name": "ipython",
    "version": 2
   },
   "file_extension": ".py",
   "mimetype": "text/x-python",
   "name": "python",
   "nbconvert_exporter": "python",
   "pygments_lexer": "ipython2",
   "version": "2.7.6"
  }
 },
 "nbformat": 4,
 "nbformat_minor": 0
}
